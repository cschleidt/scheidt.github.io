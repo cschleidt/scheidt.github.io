{
 "cells": [
  {
   "cell_type": "markdown",
   "metadata": {},
   "source": [
    "## Generate text files for visualization"
   ]
  },
  {
   "cell_type": "code",
   "execution_count": 27,
   "metadata": {
    "collapsed": false
   },
   "outputs": [
    {
     "name": "stdout",
     "output_type": "stream",
     "text": [
      "Hello\n"
     ]
    }
   ],
   "source": [
    "import pandas as pd\n",
    "\n",
    "print \"Hello\"\n",
    "\n",
    "crimes = pd.read_csv(\"../SFPD_Incidents.csv\")\n",
    "\n",
    "# clean data\n",
    "districts_set = set(['MISSION', 'TENDERLOIN', 'NORTHERN', 'RICHMOND', \n",
    "                 'BAYVIEW', 'CENTRAL', 'PARK', 'TARAVAL', 'SOUTHERN', 'INGLESIDE'])\n",
    "\n",
    "baddata = crimes[~crimes['PdDistrict'].isin(districts_set)]\n",
    "crimes = crimes.drop(baddata.index)\n"
   ]
  },
  {
   "cell_type": "code",
   "execution_count": 37,
   "metadata": {
    "collapsed": false
   },
   "outputs": [
    {
     "name": "stderr",
     "output_type": "stream",
     "text": [
      "/Users/christianschleidt/anaconda/lib/python2.7/site-packages/ipykernel/__main__.py:13: UserWarning: Boolean Series key will be reindexed to match DataFrame index.\n",
      "/Users/christianschleidt/anaconda/lib/python2.7/site-packages/ipykernel/__main__.py:14: UserWarning: Boolean Series key will be reindexed to match DataFrame index.\n"
     ]
    },
    {
     "name": "stdout",
     "output_type": "stream",
     "text": [
      "[['CENTRAL', 70, 1193, 2003], ['CENTRAL', 163, 1398, 2004], ['CENTRAL', 160, 1425, 2005], ['CENTRAL', 167, 583, 2006], ['CENTRAL', 393, 637, 2007], ['CENTRAL', 305, 489, 2008], ['CENTRAL', 110, 434, 2009], ['CENTRAL', 47, 303, 2010], ['CENTRAL', 22, 403, 2011], ['CENTRAL', 16, 490, 2012], ['CENTRAL', 37, 441, 2013], ['CENTRAL', 166, 555, 2014], ['CENTRAL', 44, 552, 2015], ['NORTHERN', 581, 1879, 2003], ['NORTHERN', 551, 1904, 2004], ['NORTHERN', 364, 2287, 2005], ['NORTHERN', 380, 836, 2006], ['NORTHERN', 369, 702, 2007], ['NORTHERN', 352, 765, 2008], ['NORTHERN', 165, 610, 2009], ['NORTHERN', 372, 462, 2010], ['NORTHERN', 324, 562, 2011], ['NORTHERN', 194, 707, 2012], ['NORTHERN', 115, 760, 2013], ['NORTHERN', 40, 808, 2014], ['NORTHERN', 42, 945, 2015], ['SOUTHERN', 18, 1426, 2003], ['SOUTHERN', 25, 1552, 2004], ['SOUTHERN', 31, 1491, 2005], ['SOUTHERN', 25, 646, 2006], ['SOUTHERN', 17, 621, 2007], ['SOUTHERN', 29, 594, 2008], ['SOUTHERN', 20, 538, 2009], ['SOUTHERN', 25, 372, 2010], ['SOUTHERN', 15, 418, 2011], ['SOUTHERN', 25, 494, 2012], ['SOUTHERN', 15, 452, 2013], ['SOUTHERN', 31, 574, 2014], ['SOUTHERN', 96, 795, 2015], ['PARK', 2, 1207, 2003], ['PARK', 0, 1384, 2004], ['PARK', 1, 1407, 2005], ['PARK', 0, 542, 2006], ['PARK', 3, 429, 2007], ['PARK', 3, 440, 2008], ['PARK', 1, 365, 2009], ['PARK', 1, 303, 2010], ['PARK', 0, 383, 2011], ['PARK', 0, 525, 2012], ['PARK', 1, 377, 2013], ['PARK', 1, 518, 2014], ['PARK', 1, 640, 2015], ['MISSION', 713, 2063, 2003], ['MISSION', 529, 2290, 2004], ['MISSION', 346, 2418, 2005], ['MISSION', 591, 994, 2006], ['MISSION', 740, 830, 2007], ['MISSION', 707, 881, 2008], ['MISSION', 997, 766, 2009], ['MISSION', 774, 572, 2010], ['MISSION', 657, 675, 2011], ['MISSION', 333, 850, 2012], ['MISSION', 469, 812, 2013], ['MISSION', 162, 993, 2014], ['MISSION', 66, 1198, 2015], ['TENDERLOIN', 527, 371, 2003], ['TENDERLOIN', 224, 327, 2004], ['TENDERLOIN', 151, 361, 2005], ['TENDERLOIN', 96, 133, 2006], ['TENDERLOIN', 310, 100, 2007], ['TENDERLOIN', 226, 102, 2008], ['TENDERLOIN', 141, 82, 2009], ['TENDERLOIN', 51, 95, 2010], ['TENDERLOIN', 63, 86, 2011], ['TENDERLOIN', 109, 61, 2012], ['TENDERLOIN', 35, 116, 2013], ['TENDERLOIN', 15, 137, 2014], ['TENDERLOIN', 23, 113, 2015], ['RICHMOND', 15, 1081, 2003], ['RICHMOND', 4, 1533, 2004], ['RICHMOND', 8, 1484, 2005], ['RICHMOND', 1, 500, 2006], ['RICHMOND', 0, 603, 2007], ['RICHMOND', 6, 464, 2008], ['RICHMOND', 4, 316, 2009], ['RICHMOND', 1, 282, 2010], ['RICHMOND', 0, 339, 2011], ['RICHMOND', 1, 488, 2012], ['RICHMOND', 1, 518, 2013], ['RICHMOND', 2, 439, 2014], ['RICHMOND', 9, 561, 2015], ['TARAVAL', 10, 1665, 2003], ['TARAVAL', 11, 2458, 2004], ['TARAVAL', 18, 2265, 2005], ['TARAVAL', 12, 927, 2006], ['TARAVAL', 19, 787, 2007], ['TARAVAL', 32, 674, 2008], ['TARAVAL', 16, 523, 2009], ['TARAVAL', 18, 470, 2010], ['TARAVAL', 6, 463, 2011], ['TARAVAL', 2, 505, 2012], ['TARAVAL', 3, 643, 2013], ['TARAVAL', 22, 701, 2014], ['TARAVAL', 81, 789, 2015], ['INGLESIDE', 5, 2319, 2003], ['INGLESIDE', 2, 2853, 2004], ['INGLESIDE', 8, 2748, 2005], ['INGLESIDE', 6, 1223, 2006], ['INGLESIDE', 5, 966, 2007], ['INGLESIDE', 7, 840, 2008], ['INGLESIDE', 4, 865, 2009], ['INGLESIDE', 3, 830, 2010], ['INGLESIDE', 1, 754, 2011], ['INGLESIDE', 3, 1308, 2012], ['INGLESIDE', 6, 1286, 2013], ['INGLESIDE', 5, 1432, 2014], ['INGLESIDE', 5, 1368, 2015], ['BAYVIEW', 11, 2121, 2003], ['BAYVIEW', 18, 2185, 2004], ['BAYVIEW', 16, 2308, 2005], ['BAYVIEW', 12, 907, 2006], ['BAYVIEW', 17, 785, 2007], ['BAYVIEW', 6, 804, 2008], ['BAYVIEW', 10, 684, 2009], ['BAYVIEW', 7, 657, 2010], ['BAYVIEW', 6, 679, 2011], ['BAYVIEW', 7, 755, 2012], ['BAYVIEW', 10, 836, 2013], ['BAYVIEW', 5, 951, 2014], ['BAYVIEW', 7, 985, 2015]]\n"
     ]
    }
   ],
   "source": [
    "# generate year column\n",
    "crimes['Year'] = crimes['Date'].map(lambda x: int(x.split(\"/\")[-1]))\n",
    "\n",
    "# generate new file with number of vehicle theft incidents, number of prostitution incidents per district\n",
    "districts = set(crimes['PdDistrict'])\n",
    "\n",
    "viz_data = []\n",
    "\n",
    "# get number of crimes in specific district\n",
    "for i in districts:\n",
    "    for n in range(2003, 2016):\n",
    "        crimes_in_district = crimes[crimes['PdDistrict'] == i]\n",
    "        pros_count = crimes_in_district[(crimes['Category'] == 'PROSTITUTION') & (crimes['Year'] == n)]['Category'].count()\n",
    "        theft_count = crimes_in_district[(crimes['Category'] == 'VEHICLE THEFT') & (crimes['Year'] == n)]['Category'].count()\n",
    "        viz_data.append([i, pros_count , theft_count, n])\n",
    "\n",
    "print viz_data\n",
    "        "
   ]
  },
  {
   "cell_type": "code",
   "execution_count": 38,
   "metadata": {
    "collapsed": false
   },
   "outputs": [],
   "source": [
    "dataframe = pd.DataFrame(viz_data, columns=[\"district\", \"prostitution\", \"theft\", \"year\"])\n",
    "\n",
    "dataframe.to_csv(\"week7.csv\", sep=',', index=False)"
   ]
  },
  {
   "cell_type": "code",
   "execution_count": 34,
   "metadata": {
    "collapsed": false
   },
   "outputs": [
    {
     "name": "stdout",
     "output_type": "stream",
     "text": [
      "2003\n",
      "2004\n",
      "2005\n",
      "2006\n",
      "2007\n",
      "2008\n",
      "2009\n",
      "2010\n",
      "2011\n",
      "2012\n",
      "2013\n",
      "2014\n"
     ]
    }
   ],
   "source": [
    "for n in range(2003, 2015):\n",
    "    print(n)"
   ]
  },
  {
   "cell_type": "code",
   "execution_count": null,
   "metadata": {
    "collapsed": true
   },
   "outputs": [],
   "source": []
  }
 ],
 "metadata": {
  "anaconda-cloud": {},
  "kernelspec": {
   "display_name": "Python [conda root]",
   "language": "python",
   "name": "conda-root-py"
  },
  "language_info": {
   "codemirror_mode": {
    "name": "ipython",
    "version": 2
   },
   "file_extension": ".py",
   "mimetype": "text/x-python",
   "name": "python",
   "nbconvert_exporter": "python",
   "pygments_lexer": "ipython2",
   "version": "2.7.12"
  }
 },
 "nbformat": 4,
 "nbformat_minor": 1
}
