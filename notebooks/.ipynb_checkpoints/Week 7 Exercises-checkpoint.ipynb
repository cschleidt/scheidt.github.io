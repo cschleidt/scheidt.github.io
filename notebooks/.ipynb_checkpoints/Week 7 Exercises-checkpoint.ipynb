{
 "cells": [
  {
   "cell_type": "markdown",
   "metadata": {},
   "source": [
    "## Generate text files for visualization"
   ]
  },
  {
   "cell_type": "code",
   "execution_count": 4,
   "metadata": {
    "collapsed": false
   },
   "outputs": [
    {
     "name": "stdout",
     "output_type": "stream",
     "text": [
      "Hello\n"
     ]
    }
   ],
   "source": [
    "import pandas as pd\n",
    "\n",
    "crimes = pd.read_csv(\"../../../../SFPD_Incidents.csv\")\n",
    "\n",
    "# clean data\n",
    "districts_set = set(['MISSION', 'TENDERLOIN', 'NORTHERN', 'RICHMOND', \n",
    "                 'BAYVIEW', 'CENTRAL', 'PARK', 'TARAVAL', 'SOUTHERN', 'INGLESIDE'])\n",
    "\n",
    "baddata = crimes[~crimes['PdDistrict'].isin(districts_set)]\n",
    "crimes = crimes.drop(baddata.index)\n"
   ]
  },
  {
   "cell_type": "code",
   "execution_count": null,
   "metadata": {
    "collapsed": false
   },
   "outputs": [
    {
     "name": "stderr",
     "output_type": "stream",
     "text": [
      "/Users/christianschleidt/anaconda/lib/python2.7/site-packages/ipykernel/__main__.py:13: UserWarning: Boolean Series key will be reindexed to match DataFrame index.\n",
      "/Users/christianschleidt/anaconda/lib/python2.7/site-packages/ipykernel/__main__.py:14: UserWarning: Boolean Series key will be reindexed to match DataFrame index.\n"
     ]
    }
   ],
   "source": [
    "# generate year column\n",
    "crimes['Year'] = crimes['Date'].map(lambda x: int(x.split(\"/\")[-1]))\n",
    "\n",
    "# generate new file with number of vehicle theft incidents, number of prostitution incidents per district\n",
    "districts = set(crimes['PdDistrict'])\n",
    "\n",
    "viz_data = []\n",
    "\n",
    "# get number of crimes in specific district\n",
    "for i in districts:\n",
    "    for n in range(2003, 2016):\n",
    "        crimes_in_district = crimes[crimes['PdDistrict'] == i]\n",
    "        pros_count = crimes_in_district[(crimes['Category'] == 'PROSTITUTION') & (crimes['Year'] == n)]['Category'].count()\n",
    "        theft_count = crimes_in_district[(crimes['Category'] == 'VEHICLE THEFT') & (crimes['Year'] == n)]['Category'].count()\n",
    "        viz_data.append([i, pros_count , theft_count, n])\n",
    "\n",
    "        "
   ]
  },
  {
   "cell_type": "code",
   "execution_count": null,
   "metadata": {
    "collapsed": false
   },
   "outputs": [],
   "source": [
    "dataframe = pd.DataFrame(viz_data, columns=[\"district\", \"prostitution\", \"theft\", \"year\"])\n",
    "\n",
    "dataframe.to_csv(\"week7.csv\", sep=',', index=False)"
   ]
  }
 ],
 "metadata": {
  "anaconda-cloud": {},
  "kernelspec": {
   "display_name": "Python [conda root]",
   "language": "python",
   "name": "conda-root-py"
  },
  "language_info": {
   "codemirror_mode": {
    "name": "ipython",
    "version": 2
   },
   "file_extension": ".py",
   "mimetype": "text/x-python",
   "name": "python",
   "nbconvert_exporter": "python",
   "pygments_lexer": "ipython2",
   "version": "2.7.12"
  }
 },
 "nbformat": 4,
 "nbformat_minor": 1
}
