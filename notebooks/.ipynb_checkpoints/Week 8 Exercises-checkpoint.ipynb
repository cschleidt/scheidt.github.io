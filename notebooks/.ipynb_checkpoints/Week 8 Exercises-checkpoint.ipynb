{
 "cells": [
  {
   "cell_type": "code",
   "execution_count": 5,
   "metadata": {
    "collapsed": false
   },
   "outputs": [],
   "source": [
    "import pandas as pd\n",
    "crimes = pd.read_csv(\"2003to2016.csv\")"
   ]
  },
  {
   "cell_type": "code",
   "execution_count": 6,
   "metadata": {
    "collapsed": false
   },
   "outputs": [],
   "source": [
    "import numpy as np\n",
    "from sklearn.cluster import KMeans\n",
    "prost = crimes[crimes['Category'] == \"PROSTITUTION\"]\n",
    "X = pd.concat([prost['X'], prost['Y']],axis=1)\n",
    "X = X[X.Y != 90.0]\n",
    "X.reset_index(drop=True)\n",
    "kmeans2 = KMeans(n_clusters=2, random_state=0).fit(X)\n",
    "kmeans3 = KMeans(n_clusters=3, random_state=0).fit(X)\n",
    "kmeans4 = KMeans(n_clusters=4, random_state=0).fit(X)\n",
    "kmeans5 = KMeans(n_clusters=5, random_state=0).fit(X)\n",
    "kmeans6 = KMeans(n_clusters=6, random_state=0).fit(X)\n"
   ]
  },
  {
   "cell_type": "code",
   "execution_count": 7,
   "metadata": {
    "collapsed": false
   },
   "outputs": [],
   "source": [
    "X = X.drop_duplicates()\n",
    "csv = pd.DataFrame(columns=['lon', 'lat', 'k2','k3','k4','k5','k6',\"centroid\"])"
   ]
  },
  {
   "cell_type": "code",
   "execution_count": 8,
   "metadata": {
    "collapsed": false
   },
   "outputs": [],
   "source": [
    "index = 0\n",
    "for i in X.iterrows():\n",
    "    tmp = [[i[1]['X'],i[1]['Y']]]\n",
    "    csv.loc[index] = [i[1]['X'],i[1]['Y'] ,kmeans2.predict(tmp), kmeans3.predict(tmp), kmeans4.predict(tmp),kmeans5.predict(tmp),kmeans6.predict(tmp),0]\n",
    "    index += 1\n",
    "\n"
   ]
  },
  {
   "cell_type": "code",
   "execution_count": 9,
   "metadata": {
    "collapsed": false
   },
   "outputs": [],
   "source": [
    "for i in kmeans2.cluster_centers_:\n",
    "    tmp = [[i[0],i[1]]]\n",
    "    csv.loc[index] = [i[0],i[1],kmeans2.predict(tmp), kmeans3.predict(tmp), kmeans4.predict(tmp),kmeans5.predict(tmp),kmeans6.predict(tmp),2]\n",
    "    index += 1\n",
    "for i in kmeans3.cluster_centers_:\n",
    "    tmp = [[i[0],i[1]]]\n",
    "    csv.loc[index] = [i[0],i[1],kmeans2.predict(tmp), kmeans3.predict(tmp), kmeans4.predict(tmp),kmeans5.predict(tmp),kmeans6.predict(tmp),3]\n",
    "    index += 1\n",
    "for i in kmeans4.cluster_centers_:\n",
    "    tmp = [[i[0],i[1]]]\n",
    "    csv.loc[index] = [i[0],i[1],kmeans2.predict(tmp), kmeans3.predict(tmp), kmeans4.predict(tmp),kmeans5.predict(tmp),kmeans6.predict(tmp),4]\n",
    "    index += 1\n",
    "for i in kmeans5.cluster_centers_:\n",
    "    tmp = [[i[0],i[1]]]\n",
    "    csv.loc[index] = [i[0],i[1],kmeans2.predict(tmp), kmeans3.predict(tmp), kmeans4.predict(tmp),kmeans5.predict(tmp),kmeans6.predict(tmp),5]\n",
    "    index += 1\n",
    "for i in kmeans6.cluster_centers_:\n",
    "    tmp = [[i[0],i[1]]]\n",
    "    csv.loc[index] = [i[0],i[1],kmeans2.predict(tmp), kmeans3.predict(tmp), kmeans4.predict(tmp),kmeans5.predict(tmp),kmeans6.predict(tmp),6]\n",
    "    index += 1\n",
    "\n",
    "csv.to_csv('week8.csv')"
   ]
  }
 ],
 "metadata": {
  "anaconda-cloud": {},
  "kernelspec": {
   "display_name": "Python [default]",
   "language": "python",
   "name": "python2"
  },
  "language_info": {
   "codemirror_mode": {
    "name": "ipython",
    "version": 2
   },
   "file_extension": ".py",
   "mimetype": "text/x-python",
   "name": "python",
   "nbconvert_exporter": "python",
   "pygments_lexer": "ipython2",
   "version": "2.7.12"
  }
 },
 "nbformat": 4,
 "nbformat_minor": 2
}
